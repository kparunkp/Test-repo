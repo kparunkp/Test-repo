{
  "nbformat": 4,
  "nbformat_minor": 0,
  "metadata": {
    "colab": {
      "name": "No 1_09_19.ipynb",
      "provenance": [],
      "collapsed_sections": [],
      "include_colab_link": true
    },
    "kernelspec": {
      "display_name": "Python 3",
      "name": "python3"
    }
  },
  "cells": [
    {
      "cell_type": "markdown",
      "metadata": {
        "id": "view-in-github",
        "colab_type": "text"
      },
      "source": [
        "<a href=\"https://colab.research.google.com/github/kparunkp/Test-repo/blob/master/No_1_09_19.ipynb\" target=\"_parent\"><img src=\"https://colab.research.google.com/assets/colab-badge.svg\" alt=\"Open In Colab\"/></a>"
      ]
    },
    {
      "cell_type": "markdown",
      "metadata": {
        "colab_type": "text",
        "id": "7Z2jcRKwUHqV"
      },
      "source": [
        "This notebook provides recipes for loading and saving data from external sources."
      ]
    },
    {
      "cell_type": "code",
      "metadata": {
        "id": "gk3v9NclC-34",
        "colab_type": "code",
        "colab": {
          "base_uri": "https://localhost:8080/",
          "height": 34
        },
        "outputId": "c34c8245-206a-422e-a248-e7217769c3b3"
      },
      "source": [
        "a=10+3\n",
        "a , id(a) , type(a)\n"
      ],
      "execution_count": null,
      "outputs": [
        {
          "output_type": "execute_result",
          "data": {
            "text/plain": [
              "(13, 10914880, int)"
            ]
          },
          "metadata": {
            "tags": []
          },
          "execution_count": 6
        }
      ]
    },
    {
      "cell_type": "code",
      "metadata": {
        "id": "Dd9qoSCEEcUp",
        "colab_type": "code",
        "colab": {
          "base_uri": "https://localhost:8080/",
          "height": 578
        },
        "outputId": "aabb3bcf-6ed1-494a-fe2c-ef46a1124fcd"
      },
      "source": [
        "import keyword\n",
        "keyword.kwlist"
      ],
      "execution_count": null,
      "outputs": [
        {
          "output_type": "execute_result",
          "data": {
            "text/plain": [
              "['False',\n",
              " 'None',\n",
              " 'True',\n",
              " 'and',\n",
              " 'as',\n",
              " 'assert',\n",
              " 'break',\n",
              " 'class',\n",
              " 'continue',\n",
              " 'def',\n",
              " 'del',\n",
              " 'elif',\n",
              " 'else',\n",
              " 'except',\n",
              " 'finally',\n",
              " 'for',\n",
              " 'from',\n",
              " 'global',\n",
              " 'if',\n",
              " 'import',\n",
              " 'in',\n",
              " 'is',\n",
              " 'lambda',\n",
              " 'nonlocal',\n",
              " 'not',\n",
              " 'or',\n",
              " 'pass',\n",
              " 'raise',\n",
              " 'return',\n",
              " 'try',\n",
              " 'while',\n",
              " 'with',\n",
              " 'yield']"
            ]
          },
          "metadata": {
            "tags": []
          },
          "execution_count": 8
        }
      ]
    },
    {
      "cell_type": "code",
      "metadata": {
        "id": "ayOBLzy_Fw5L",
        "colab_type": "code",
        "colab": {
          "base_uri": "https://localhost:8080/",
          "height": 34
        },
        "outputId": "03cfd08e-a88a-4075-9c8c-cad838331d5e"
      },
      "source": [
        "a= input(\"Enter your Name\")"
      ],
      "execution_count": null,
      "outputs": [
        {
          "output_type": "stream",
          "text": [
            "Enter your NameArun\n"
          ],
          "name": "stdout"
        }
      ]
    },
    {
      "cell_type": "code",
      "metadata": {
        "id": "LXzGRBmyFw9y",
        "colab_type": "code",
        "colab": {
          "base_uri": "https://localhost:8080/",
          "height": 35
        },
        "outputId": "ef8eec77-1835-45a4-d133-827021900e1a"
      },
      "source": [
        "a"
      ],
      "execution_count": null,
      "outputs": [
        {
          "output_type": "execute_result",
          "data": {
            "application/vnd.google.colaboratory.intrinsic+json": {
              "type": "string"
            },
            "text/plain": [
              "'Arun'"
            ]
          },
          "metadata": {
            "tags": []
          },
          "execution_count": 10
        }
      ]
    },
    {
      "cell_type": "code",
      "metadata": {
        "id": "sCbpKJpHFw7h",
        "colab_type": "code",
        "colab": {
          "base_uri": "https://localhost:8080/",
          "height": 35
        },
        "outputId": "b474c803-b118-44f2-b717-dab5653b0d5e"
      },
      "source": [
        "pwd #present dictionary"
      ],
      "execution_count": null,
      "outputs": [
        {
          "output_type": "execute_result",
          "data": {
            "application/vnd.google.colaboratory.intrinsic+json": {
              "type": "string"
            },
            "text/plain": [
              "'/content'"
            ]
          },
          "metadata": {
            "tags": []
          },
          "execution_count": 11
        }
      ]
    },
    {
      "cell_type": "code",
      "metadata": {
        "id": "WRiitEauFwsV",
        "colab_type": "code",
        "colab": {
          "base_uri": "https://localhost:8080/",
          "height": 51
        },
        "outputId": "e1875d20-4c56-490b-a782-8c262ef74507"
      },
      "source": [
        "print(\"Ram is good boy lives\\n in mumbia\")"
      ],
      "execution_count": null,
      "outputs": [
        {
          "output_type": "stream",
          "text": [
            "Ram is good boy lives\n",
            " in mumbia\n"
          ],
          "name": "stdout"
        }
      ]
    },
    {
      "cell_type": "code",
      "metadata": {
        "id": "maIQuWn7Iijc",
        "colab_type": "code",
        "colab": {
          "base_uri": "https://localhost:8080/",
          "height": 34
        },
        "outputId": "9572d4da-43fc-4a9d-da45-1c3120069f70"
      },
      "source": [
        "print (\"My\" ,\"name\" ,\"is Arun\", sep=\"-\")"
      ],
      "execution_count": null,
      "outputs": [
        {
          "output_type": "stream",
          "text": [
            "My-name-is Arun\n"
          ],
          "name": "stdout"
        }
      ]
    },
    {
      "cell_type": "code",
      "metadata": {
        "id": "anMeIOS_Iil9",
        "colab_type": "code",
        "colab": {
          "base_uri": "https://localhost:8080/",
          "height": 51
        },
        "outputId": "fe4618a1-113c-4364-8cea-e51598bc3a65"
      },
      "source": [
        "from datetime import date\n",
        "from datetime import datetime\n",
        "\n",
        "today = date.today()\n",
        "print(\"Today's date:\", today)\n",
        "print(\"current time : \", datetime.now().time())"
      ],
      "execution_count": null,
      "outputs": [
        {
          "output_type": "stream",
          "text": [
            "Today's date: 2020-09-19\n",
            "current time :  12:36:20.475444\n"
          ],
          "name": "stdout"
        }
      ]
    },
    {
      "cell_type": "code",
      "metadata": {
        "id": "w2RXarMjIioL",
        "colab_type": "code",
        "colab": {
          "base_uri": "https://localhost:8080/",
          "height": 34
        },
        "outputId": "f96e1c8a-f4aa-4ec1-dd98-3a24c285e1ef"
      },
      "source": [
        "\n",
        "\n",
        "\n",
        "import time\n",
        "t = time.localtime()\n",
        "current_time = time.strftime(\"%H:%M:%S\", t)\n",
        "print(current_time)"
      ],
      "execution_count": null,
      "outputs": [
        {
          "output_type": "stream",
          "text": [
            "12:37:47\n"
          ],
          "name": "stdout"
        }
      ]
    },
    {
      "cell_type": "code",
      "metadata": {
        "id": "6EtngCPuIird",
        "colab_type": "code",
        "colab": {}
      },
      "source": [
        "# -----------------------------------------"
      ],
      "execution_count": null,
      "outputs": []
    },
    {
      "cell_type": "code",
      "metadata": {
        "id": "oZGBrCJVIiu1",
        "colab_type": "code",
        "colab": {
          "base_uri": "https://localhost:8080/",
          "height": 35
        },
        "outputId": "c9e32f5c-f8d1-4095-fea8-768d6c13a998"
      },
      "source": [
        "# 1. Simple Message: Store a message in a variable, and then print that message.\n",
        "\n",
        "a = \"Hello test\"\n",
        "a"
      ],
      "execution_count": null,
      "outputs": [
        {
          "output_type": "execute_result",
          "data": {
            "application/vnd.google.colaboratory.intrinsic+json": {
              "type": "string"
            },
            "text/plain": [
              "'Hello test'"
            ]
          },
          "metadata": {
            "tags": []
          },
          "execution_count": 43
        }
      ]
    },
    {
      "cell_type": "code",
      "metadata": {
        "id": "ye8VZ6x1Iix1",
        "colab_type": "code",
        "colab": {
          "base_uri": "https://localhost:8080/",
          "height": 35
        },
        "outputId": "6c4a48f9-899b-46b0-a3e4-fd1e258b0e70"
      },
      "source": [
        "#2. Store a message in a variable and print that message. Then change the\n",
        "#value of your variable to a new message and print the new message.\n",
        "\n",
        "a = \"Hello test\"\n",
        "a"
      ],
      "execution_count": null,
      "outputs": [
        {
          "output_type": "execute_result",
          "data": {
            "application/vnd.google.colaboratory.intrinsic+json": {
              "type": "string"
            },
            "text/plain": [
              "'Hello test'"
            ]
          },
          "metadata": {
            "tags": []
          },
          "execution_count": 44
        }
      ]
    },
    {
      "cell_type": "code",
      "metadata": {
        "id": "oOGuOOODIiz3",
        "colab_type": "code",
        "colab": {
          "base_uri": "https://localhost:8080/",
          "height": 35
        },
        "outputId": "af968d59-598b-42b1-b153-9e4f16d94658"
      },
      "source": [
        "a=\"New message\"\n",
        "a"
      ],
      "execution_count": null,
      "outputs": [
        {
          "output_type": "execute_result",
          "data": {
            "application/vnd.google.colaboratory.intrinsic+json": {
              "type": "string"
            },
            "text/plain": [
              "'New message'"
            ]
          },
          "metadata": {
            "tags": []
          },
          "execution_count": 45
        }
      ]
    },
    {
      "cell_type": "code",
      "metadata": {
        "id": "0KYGY7ZnIi1m",
        "colab_type": "code",
        "colab": {
          "base_uri": "https://localhost:8080/",
          "height": 34
        },
        "outputId": "32929ec3-d6f1-4740-fbc6-73720e42cf45"
      },
      "source": [
        "#3. Store a person’s name in a variable and print a message to that person.\n",
        "#Your message should be simple, such as, “Hello Eric, would you like to\n",
        "#learn some Python today?”\n",
        "name = \"Arun\"\n",
        "\n",
        "print(\"Hello {}, would you like to learn some Python today?\".format(name))\n"
      ],
      "execution_count": null,
      "outputs": [
        {
          "output_type": "stream",
          "text": [
            "Hello Arun, would you like to learn some Python today?\n"
          ],
          "name": "stdout"
        }
      ]
    },
    {
      "cell_type": "code",
      "metadata": {
        "id": "fNWM5yotd3mV",
        "colab_type": "code",
        "colab": {
          "base_uri": "https://localhost:8080/",
          "height": 34
        },
        "outputId": "59a05070-a283-470d-8c48-b343cb6683bd"
      },
      "source": [
        "\"\"\"4 Find a quote from a famous person you admire. Print the quote and the\n",
        "name of its author. Your output should look something like the following,\n",
        "including the quotation marks: Albert Einstein once said, “A person who\n",
        "never made a mistake never tried anything new.\"\"\"\n",
        "\n",
        "print(\" Albert Einstein once said, \\\"A person who never made a mistake never tried anything new.\\\"\")\n"
      ],
      "execution_count": null,
      "outputs": [
        {
          "output_type": "stream",
          "text": [
            " Albert Einstein once said, \"A person who never made a mistake never tried anything new.\"\n"
          ],
          "name": "stdout"
        }
      ]
    },
    {
      "cell_type": "code",
      "metadata": {
        "id": "oJfnrX_seDua",
        "colab_type": "code",
        "colab": {
          "base_uri": "https://localhost:8080/",
          "height": 34
        },
        "outputId": "e4944ca9-1809-461d-9275-a489463642e5"
      },
      "source": [
        "\"\"\"5 Repeat Exercise 4, but this time store the famous person’s name in a\n",
        "variable called famous_person. Then compose your message and store it in\n",
        "a new variable called message. Print your message\"\"\"\n",
        "\n",
        "name=\"Albert Einstein\"\n",
        "print(\" {} once said, \\\"A person who never made a mistake never tried anything new.\\\"\".format(name))"
      ],
      "execution_count": null,
      "outputs": [
        {
          "output_type": "stream",
          "text": [
            " Albert Einstein once said, \"A person who never made a mistake never tried anything new.\"\n"
          ],
          "name": "stdout"
        }
      ]
    },
    {
      "cell_type": "code",
      "metadata": {
        "id": "B4CBs7GTd3pc",
        "colab_type": "code",
        "colab": {
          "base_uri": "https://localhost:8080/",
          "height": 85
        },
        "outputId": "4eeb7c49-dcc3-4c80-f8d0-30d0801dc63c"
      },
      "source": [
        "\"\"\" Write addition, subtraction, multiplication, and division operations that\n",
        "each result in the number 8. Be sure to enclose your operations in print\n",
        "statements to see the results. You should create four lines that look like\n",
        "this: print (5 + 3)\n",
        "Your output should simply be four lines with the number 8 appearing once\n",
        "on each line. \"\"\"\n",
        "\n",
        "\n",
        "print(4+4)\n",
        "print(10-2)\n",
        "print(4*2)\n",
        "print(int(16/2))"
      ],
      "execution_count": null,
      "outputs": [
        {
          "output_type": "stream",
          "text": [
            "8\n",
            "8\n",
            "8\n",
            "8\n"
          ],
          "name": "stdout"
        }
      ]
    },
    {
      "cell_type": "code",
      "metadata": {
        "id": "8XDCoXMbd3sM",
        "colab_type": "code",
        "colab": {
          "base_uri": "https://localhost:8080/",
          "height": 34
        },
        "outputId": "56c9fabe-4239-4ddc-d07f-7a440a2fb338"
      },
      "source": [
        "\"\"\"Store your favourite number in a variable. Then, using that variable, create\n",
        "a message that reveals your favourite number. Print that message.\"\"\"\n",
        "\n",
        "fav = 46\n",
        "print(\"My fav number is\",fav)"
      ],
      "execution_count": null,
      "outputs": [
        {
          "output_type": "stream",
          "text": [
            "My fav number is 46\n"
          ],
          "name": "stdout"
        }
      ]
    },
    {
      "cell_type": "code",
      "metadata": {
        "id": "RuU7nEiXd3u_",
        "colab_type": "code",
        "colab": {
          "base_uri": "https://localhost:8080/",
          "height": 51
        },
        "outputId": "db569b08-cb68-4459-928e-475535a37482"
      },
      "source": [
        "\"\"\" Choose two of the programs you’ve written and add at least one comment\n",
        "to each. If you don’t have anything specific to write because your programs\n",
        "are too simple at this point, just add your name and the current date at the\n",
        "top of each program file. Then write one sentence describing what the\n",
        "program does \"\"\"\n",
        "\n",
        "\n",
        "from datetime import date\n",
        "from datetime import datetime\n",
        "\n",
        "print(\"Todays Date  \"+str(date.today()))\n",
        "print(\"current time \"+str(datetime.now().time()))\n"
      ],
      "execution_count": null,
      "outputs": [
        {
          "output_type": "stream",
          "text": [
            "Todays Date  2020-09-19\n",
            "current time 13:21:55.283071\n"
          ],
          "name": "stdout"
        }
      ]
    },
    {
      "cell_type": "code",
      "metadata": {
        "id": "HeXWut1jd3x0",
        "colab_type": "code",
        "colab": {
          "base_uri": "https://localhost:8080/",
          "height": 85
        },
        "outputId": "932b7dc1-f8d3-42bb-efd4-3137282c1776"
      },
      "source": [
        "\"\"\"9. Store the names of a few of your friends in a list called names. Print each\n",
        "person’s name by accessing each element in the list, one at a time.\"\"\"\n",
        "\n",
        "name =[\"name 1\",\"name 2\",\"name 3\",\"name 4\"]\n",
        "\n",
        "for i in name:\n",
        "  print(i)\n"
      ],
      "execution_count": null,
      "outputs": [
        {
          "output_type": "stream",
          "text": [
            "name 1\n",
            "name 2\n",
            "name 3\n",
            "name 4\n"
          ],
          "name": "stdout"
        }
      ]
    },
    {
      "cell_type": "code",
      "metadata": {
        "id": "EyPbDmaed306",
        "colab_type": "code",
        "colab": {
          "base_uri": "https://localhost:8080/",
          "height": 85
        },
        "outputId": "748012c0-3f5b-44e8-d147-03b90645f86e"
      },
      "source": [
        "\"\"\"10.Start with the list you used in Exercise 9, but instead of just printing each\n",
        "person’s name, print a message to them. The text of each message should\n",
        "be the same, but each message should be personalized with the person’s\n",
        "name\"\"\"\n",
        "\n",
        "\n",
        "for i in name:\n",
        "  print(\" Hello {} you have a new message\".format(i))"
      ],
      "execution_count": null,
      "outputs": [
        {
          "output_type": "stream",
          "text": [
            " Hello name 1 you have a new message\n",
            " Hello name 2 you have a new message\n",
            " Hello name 3 you have a new message\n",
            " Hello name 4 you have a new message\n"
          ],
          "name": "stdout"
        }
      ]
    },
    {
      "cell_type": "code",
      "metadata": {
        "id": "MmgrueJWd33t",
        "colab_type": "code",
        "colab": {
          "base_uri": "https://localhost:8080/",
          "height": 85
        },
        "outputId": "9689a601-01fa-4f38-a0a4-9b1456447f81"
      },
      "source": [
        ""
      ],
      "execution_count": null,
      "outputs": [
        {
          "output_type": "stream",
          "text": [
            " Hello name 1 you have a new message\n",
            " Hello name 2 you have a new message\n",
            " Hello name 3 you have a new message\n",
            " Hello name 4 you have a new message\n"
          ],
          "name": "stdout"
        }
      ]
    },
    {
      "cell_type": "code",
      "metadata": {
        "id": "sx0frQBOd36j",
        "colab_type": "code",
        "colab": {
          "base_uri": "https://localhost:8080/",
          "height": 52
        },
        "outputId": "c7a43705-1a38-4bc2-ce1c-f0aaac6b12cf"
      },
      "source": [
        "\"\"\"11.Think of your favourite mode of transportation, such as a motorcycle or a\n",
        "car, and make a list that stores several examples. Use your list to print a\n",
        "series of statements about these items, such as “I would like to own a\n",
        "Honda motorcycle.\"\"\""
      ],
      "execution_count": null,
      "outputs": [
        {
          "output_type": "execute_result",
          "data": {
            "application/vnd.google.colaboratory.intrinsic+json": {
              "type": "string"
            },
            "text/plain": [
              "'11.Think of your favourite mode of transportation, such as a motorcycle or a\\ncar, and make a list that stores several examples. Use your list to print a\\nseries of statements about these items, such as “I would like to own a\\nHonda motorcycle.'"
            ]
          },
          "metadata": {
            "tags": []
          },
          "execution_count": 18
        }
      ]
    },
    {
      "cell_type": "code",
      "metadata": {
        "id": "mP_7S7MrkJJN",
        "colab_type": "code",
        "colab": {
          "base_uri": "https://localhost:8080/",
          "height": 85
        },
        "outputId": "86a17582-4b79-4259-c7e4-52532bfe569c"
      },
      "source": [
        "items=[\"Bike\", \"car\" ,\"iphone\" ,\"Camera\" ]\n",
        "for i in items:\n",
        "  print(\"I would like to have a {}\".format(i))"
      ],
      "execution_count": null,
      "outputs": [
        {
          "output_type": "stream",
          "text": [
            "I would like to have a Bike\n",
            "I would like to have a car\n",
            "I would like to have a iphone\n",
            "I would like to have a Camera\n"
          ],
          "name": "stdout"
        }
      ]
    },
    {
      "cell_type": "code",
      "metadata": {
        "id": "nScWtG31kJL5",
        "colab_type": "code",
        "colab": {}
      },
      "source": [
        ""
      ],
      "execution_count": null,
      "outputs": []
    },
    {
      "cell_type": "code",
      "metadata": {
        "id": "CHpoROyUkJO9",
        "colab_type": "code",
        "colab": {}
      },
      "source": [
        ""
      ],
      "execution_count": null,
      "outputs": []
    },
    {
      "cell_type": "code",
      "metadata": {
        "id": "lZwccxtrkJQs",
        "colab_type": "code",
        "colab": {}
      },
      "source": [
        ""
      ],
      "execution_count": null,
      "outputs": []
    },
    {
      "cell_type": "code",
      "metadata": {
        "id": "YsN4-EidkJTd",
        "colab_type": "code",
        "colab": {}
      },
      "source": [
        ""
      ],
      "execution_count": null,
      "outputs": []
    },
    {
      "cell_type": "code",
      "metadata": {
        "id": "3DY6zoWDkJV2",
        "colab_type": "code",
        "colab": {}
      },
      "source": [
        ""
      ],
      "execution_count": null,
      "outputs": []
    },
    {
      "cell_type": "code",
      "metadata": {
        "id": "MupvqRgVd39O",
        "colab_type": "code",
        "colab": {}
      },
      "source": [
        ""
      ],
      "execution_count": null,
      "outputs": []
    }
  ]
}